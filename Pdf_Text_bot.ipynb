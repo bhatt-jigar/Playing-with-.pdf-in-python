{
 "cells": [
  {
   "cell_type": "markdown",
   "metadata": {},
   "source": [
    "### Pdfminer\n",
    "Tool for extracting information from PDF documents. It includes a PDF converter that can transform PDF files into other text formats (such as HTML).\n",
    "\n",
    "#### PDFResourceManager \n",
    "It is used to store shared resources such as fonts or images.\n",
    "\n",
    "#### PDFPageInterpreter\n",
    "It is used to  to process the page contents.\n",
    "\n",
    "#### PDFPage\n",
    "It is used to create an object that holds the information about a page.\n",
    "\n",
    "#### TextConverter\n",
    "It is used to convert any pdf to text. It is given to the PageInterpreter object. \n",
    "\n",
    "#### LAParams\n",
    "It takes care about the layout of the PDF file.\n"
   ]
  },
  {
   "cell_type": "code",
   "execution_count": 12,
   "metadata": {},
   "outputs": [],
   "source": [
    "from pdfminer.pdfinterp import PDFResourceManager, PDFPageInterpreter\n",
    "from pdfminer.pdfpage import PDFPage\n",
    "from pdfminer.converter import TextConverter, HTMLConverter, XMLConverter\n",
    "from pdfminer.layout import LAParams\n",
    "import io"
   ]
  },
  {
   "cell_type": "code",
   "execution_count": 13,
   "metadata": {},
   "outputs": [],
   "source": [
    "pdf_path=\"C:\\\\Users\\\\jbhat\\\\ISB1\\\\Python Projects\\\\Playing with Pdf\\\\Sample pdfs\\\\Samplepdf1.pdf\"  #path to your pdf file\n",
    "pdf=open(pdf_path,'rb')\n",
    "mem=io.StringIO()"
   ]
  },
  {
   "cell_type": "code",
   "execution_count": 14,
   "metadata": {},
   "outputs": [],
   "source": [
    "lp=LAParams()\n",
    "rm=PDFResourceManager()\n",
    "cnv=TextConverter(rm,mem,laparams=lp)\n",
    "ip=PDFPageInterpreter(rm,cnv)"
   ]
  },
  {
   "cell_type": "code",
   "execution_count": 15,
   "metadata": {},
   "outputs": [
    {
     "name": "stdout",
     "output_type": "stream",
     "text": [
      "DONE\n"
     ]
    }
   ],
   "source": [
    "for i in PDFPage.get_pages(pdf):\n",
    "    ip.process_page(i)\n",
    "    text=mem.getvalue()\n",
    "\n",
    "file=open(\"C:\\\\Users\\\\jbhat\\\\ISB1\\\\Python Projects\\\\Playing with Pdf\\\\Sample pdfs\\\\Samplepdf_extracted_bot.txt\",'wb')#path to your destination file\n",
    "file.write(text.encode('utf-8'))\n",
    "\n",
    "print(\"DONE\")"
   ]
  }
 ],
 "metadata": {
  "kernelspec": {
   "display_name": "Python 3",
   "language": "python",
   "name": "python3"
  },
  "language_info": {
   "codemirror_mode": {
    "name": "ipython",
    "version": 3
   },
   "file_extension": ".py",
   "mimetype": "text/x-python",
   "name": "python",
   "nbconvert_exporter": "python",
   "pygments_lexer": "ipython3",
   "version": "3.7.1"
  }
 },
 "nbformat": 4,
 "nbformat_minor": 2
}
