{
 "cells": [
  {
   "cell_type": "markdown",
   "metadata": {},
   "source": [
    "### PyPDF2\n",
    "PyPDF2 is a builtin library as pdf toolkit. It is capable of splitting, merging together, cropping, and transforming the pages of PDF files. It can also add custom data, viewing options, and passwords to PDF files. It can \n",
    "retrieve text and metadata from PDFs as well as merge entire files together. \n",
    "\n",
    "#### PdfFileReader Class\n",
    "Used to read from pdf\n",
    "\n",
    "#### PdfFileWriter Class\n",
    "Used to write in pdf\n",
    "\n",
    "* Reading pdf\n",
    "* Etracting text from python\n",
    "* Merging pdfs\n",
    "* Encrypting pdf\n",
    "* watermarking pdf"
   ]
  },
  {
   "cell_type": "code",
   "execution_count": 3,
   "metadata": {},
   "outputs": [],
   "source": [
    "from PyPDF2 import PdfFileWriter,PdfFileReader "
   ]
  },
  {
   "cell_type": "code",
   "execution_count": 11,
   "metadata": {},
   "outputs": [
    {
     "name": "stdout",
     "output_type": "stream",
     "text": [
      "1\n"
     ]
    }
   ],
   "source": [
    "x = open(\"C:\\\\Users\\\\Playing with Pdf\\\\Sample pdfs\\\\Samplepdf1.pdf\",'rb')\n",
    "\n",
    "# creating a pdf reader object \n",
    "pdfReader = PdfFileReader(x)\n",
    "\n",
    "# printing number of pages in pdf file \n",
    "print(pdfReader.numPages)"
   ]
  },
  {
   "cell_type": "code",
   "execution_count": 13,
   "metadata": {},
   "outputs": [
    {
     "name": "stdout",
     "output_type": "stream",
     "text": [
      "Hello!!How are you? \n",
      " \n",
      "How is the weather today? \n",
      " \n",
      "Can we have meet and greet sometime? \n",
      " \n",
      "It has been a long time we had some fun. \n",
      " \n",
      "Can we make plan for next saturday\n",
      " \n",
      "\n"
     ]
    }
   ],
   "source": [
    "#extracting from pdf\n",
    "\n",
    "# creating a page object \n",
    "pageObj = pdfReader.getPage(0) \n",
    "\n",
    "# extracting text from page \n",
    "print(pageObj.extractText())\n",
    "\n",
    "x.close()"
   ]
  },
  {
   "cell_type": "code",
   "execution_count": 7,
   "metadata": {},
   "outputs": [],
   "source": [
    "#merging pdfs\n",
    "\n",
    "write_obj=PdfFileWriter() #object for writinging pdfs\n",
    "\n",
    "#opening two different pdfs and copy both to new pdf file (merged file)\n",
    "pdf_list=[\"C:\\\\Users\\\\Playing with Pdf\\\\Sample pdfs\\\\Samplepdf1.pdf\",\n",
    "          \"C:\\\\Users\\\\Playing with Pdf\\\\Sample pdfs\\\\Samplepdf2.pdf\" ]\n",
    "\n",
    "for i in pdf_list:\n",
    "    red_obj= PdfFileReader(i) #object for reading pdfs\n",
    "    pages=red_obj.getNumPages()\n",
    "    #print(pages)\n",
    "    for j in range(pages):\n",
    "        p=red_obj.getPage(j)\n",
    "        write_obj.addPage(p) #creating write object\n",
    "\n",
    "pdf_file=open(\"C:\\\\Users\\\\Playing with Pdf\\\\Sample pdfs\\\\Samplepdf_merge.pdf\",'wb')\n",
    "write_obj.write(pdf_file)"
   ]
  },
  {
   "cell_type": "code",
   "execution_count": 15,
   "metadata": {},
   "outputs": [],
   "source": [
    "#encrypt a pdf\n",
    "\n",
    "write_obj=PdfFileWriter()\n",
    "\n",
    "pdf_list=[\"C:\\\\Users\\\\Playing with Pdf\\\\Sample pdfs\\\\Samplepdf1.pdf\",\n",
    "          \"C:\\\\Users\\\\Playing with Pdf\\\\Sample pdfs\\\\Samplepdf2.pdf\" ]\n",
    "\n",
    "for i in pdf_list:\n",
    "    red_obj= PdfFileReader(i) #object for reading pdfs\n",
    "    pages=red_obj.getNumPages()\n",
    "    #print(pages)\n",
    "    for j in range(pages):\n",
    "        p=red_obj.getPage(j)\n",
    "        write_obj.addPage(p)\n",
    "\n",
    "write_obj.encrypt('1234','xyz',True) #(userpass, ownerpass, encryption)\n",
    "\n",
    "\n",
    "\n",
    "pdf_file=open(\"C:\\\\Users\\\\Playing with Pdf\\\\Sample pdfs\\\\Samplepdf_merge_encrypted.pdf\",'wb')\n",
    "write_obj.write(pdf_file)\n",
    "write_obj.encrypt('1234','xyz',True)\n"
   ]
  },
  {
   "cell_type": "code",
   "execution_count": 17,
   "metadata": {},
   "outputs": [],
   "source": [
    "#watermarking pdf\n",
    "\n",
    "pdf = PdfFileReader(\"C:\\\\Users\\\\Playing with Pdf\\\\Sample pdfs\\\\Samplepdf_merge.pdf\")\n",
    "watermark = PdfFileReader(\"C:\\\\Users\\\\Playing with Pdf\\\\Sample pdfs\\\\SampleWatermarking.pdf\")\n",
    "\n",
    "page_w = watermark.getPage(0)\n",
    "new_pdf = PdfFileWriter()\n",
    "pages = pdf.getNumPages() \n",
    "\n",
    "for i in range(pages):\n",
    "    page=pdf.getPage(i)\n",
    "    page.mergePage(page_w)\n",
    "    new_pdf.addPage(page)\n",
    "\n",
    "pdf_fl=open(\"C:\\\\Users\\\\Playing with Pdf\\\\Sample pdfs\\\\Samplepdf_merge_watermark.pdf\",'wb')\n",
    "new_pdf.write(pdf_fl)\n",
    "\n",
    "pdf_fl.close()"
   ]
  }
 ],
 "metadata": {
  "kernelspec": {
   "display_name": "Python 3",
   "language": "python",
   "name": "python3"
  },
  "language_info": {
   "codemirror_mode": {
    "name": "ipython",
    "version": 3
   },
   "file_extension": ".py",
   "mimetype": "text/x-python",
   "name": "python",
   "nbconvert_exporter": "python",
   "pygments_lexer": "ipython3",
   "version": "3.7.1"
  }
 },
 "nbformat": 4,
 "nbformat_minor": 2
}
